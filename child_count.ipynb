{
 "cells": [
  {
   "cell_type": "code",
   "execution_count": 1,
   "id": "0bd07253",
   "metadata": {},
   "outputs": [],
   "source": [
    "import networkx as nx\n",
    "import numpy as np\n",
    "import matplotlib.pyplot as plt\n",
    "import copy\n",
    "import pandas as pd"
   ]
  },
  {
   "cell_type": "code",
   "execution_count": 39,
   "id": "c808e098",
   "metadata": {},
   "outputs": [],
   "source": [
    "G = nx.DiGraph()\n",
    "nodes = np.arange(0, 10).tolist()\n",
    "G.add_nodes_from(nodes)\n",
    "G.add_edges_from([(0,1), (0,2),\n",
    " (1,3), (1, 4),\n",
    " (2, 5), (2, 6), (2,7), (3,8), (3,9), (9,3), (4,0)])"
   ]
  },
  {
   "cell_type": "code",
   "execution_count": 40,
   "id": "6a320b11",
   "metadata": {},
   "outputs": [],
   "source": [
    "pos = {0:(10, 10),\n",
    " 1:(7.5, 7.5), 2:(12.5, 7.5),\n",
    " 3:(6, 6), 4:(9, 6),\n",
    " 5:(11, 6), 6:(14, 6), 7:(17, 6), 8:(3,3), 9:(9,3)}"
   ]
  },
  {
   "cell_type": "code",
   "execution_count": 41,
   "id": "bf75b77a",
   "metadata": {},
   "outputs": [
    {
     "data": {
      "text/html": [
       "<div>\n",
       "<style scoped>\n",
       "    .dataframe tbody tr th:only-of-type {\n",
       "        vertical-align: middle;\n",
       "    }\n",
       "\n",
       "    .dataframe tbody tr th {\n",
       "        vertical-align: top;\n",
       "    }\n",
       "\n",
       "    .dataframe thead th {\n",
       "        text-align: right;\n",
       "    }\n",
       "</style>\n",
       "<table border=\"1\" class=\"dataframe\">\n",
       "  <thead>\n",
       "    <tr style=\"text-align: right;\">\n",
       "      <th></th>\n",
       "      <th>nodes</th>\n",
       "      <th>predecessor</th>\n",
       "    </tr>\n",
       "  </thead>\n",
       "  <tbody>\n",
       "    <tr>\n",
       "      <th>0</th>\n",
       "      <td>0</td>\n",
       "      <td>NaN</td>\n",
       "    </tr>\n",
       "    <tr>\n",
       "      <th>1</th>\n",
       "      <td>1</td>\n",
       "      <td>0.0</td>\n",
       "    </tr>\n",
       "    <tr>\n",
       "      <th>2</th>\n",
       "      <td>2</td>\n",
       "      <td>0.0</td>\n",
       "    </tr>\n",
       "    <tr>\n",
       "      <th>3</th>\n",
       "      <td>3</td>\n",
       "      <td>1.0</td>\n",
       "    </tr>\n",
       "    <tr>\n",
       "      <th>4</th>\n",
       "      <td>4</td>\n",
       "      <td>1.0</td>\n",
       "    </tr>\n",
       "    <tr>\n",
       "      <th>5</th>\n",
       "      <td>5</td>\n",
       "      <td>2.0</td>\n",
       "    </tr>\n",
       "    <tr>\n",
       "      <th>6</th>\n",
       "      <td>6</td>\n",
       "      <td>2.0</td>\n",
       "    </tr>\n",
       "    <tr>\n",
       "      <th>7</th>\n",
       "      <td>7</td>\n",
       "      <td>2.0</td>\n",
       "    </tr>\n",
       "    <tr>\n",
       "      <th>8</th>\n",
       "      <td>8</td>\n",
       "      <td>3.0</td>\n",
       "    </tr>\n",
       "    <tr>\n",
       "      <th>9</th>\n",
       "      <td>9</td>\n",
       "      <td>3.0</td>\n",
       "    </tr>\n",
       "  </tbody>\n",
       "</table>\n",
       "</div>"
      ],
      "text/plain": [
       "   nodes  predecessor\n",
       "0      0          NaN\n",
       "1      1          0.0\n",
       "2      2          0.0\n",
       "3      3          1.0\n",
       "4      4          1.0\n",
       "5      5          2.0\n",
       "6      6          2.0\n",
       "7      7          2.0\n",
       "8      8          3.0\n",
       "9      9          3.0"
      ]
     },
     "execution_count": 41,
     "metadata": {},
     "output_type": "execute_result"
    }
   ],
   "source": [
    "d = {'nodes': pd.Series(np.arange(0, 10)) , 'predecessor': [None,0,0,1,1,2,2,2,3,3] }\n",
    "df=pd.DataFrame(data=d)\n",
    "df"
   ]
  },
  {
   "cell_type": "code",
   "execution_count": 42,
   "id": "8fc46c85",
   "metadata": {},
   "outputs": [
    {
     "name": "stdout",
     "output_type": "stream",
     "text": [
      "[0, 1, 2, 3, 4, 5, 6, 7, 8, 9]\n",
      "[(0., 1), (0., 2), (1., 3), (1., 4), (2., 5), (2., 6), (2., 7), (3., 8), (3., 9)]\n"
     ]
    }
   ],
   "source": [
    "H=nx.DiGraph()\n",
    "nodes = df[\"nodes\"].tolist()\n",
    "print(nodes)\n",
    "df=df.loc[:,[\"predecessor\",\"nodes\"]]\n",
    "df=df.dropna(axis=0)\n",
    "#print(df)\n",
    "edges=[]\n",
    "records=df.to_records(index=False)\n",
    "result=list(records)\n",
    "print(result)\n",
    "H.add_nodes_from(nodes)\n",
    "H.add_edges_from(result)\n",
    "\n"
   ]
  },
  {
   "cell_type": "code",
   "execution_count": 43,
   "id": "328b8c37",
   "metadata": {},
   "outputs": [
    {
     "data": {
      "image/png": "[encoded data removed]",
      "text/plain": [
       "<Figure size 432x288 with 1 Axes>"
      ]
     },
     "metadata": {},
     "output_type": "display_data"
    }
   ],
   "source": [
    "nx.draw_networkx(G, pos = pos,  arrows = True,\n",
    " node_shape = \"s\", node_color = \"white\")\n",
    "plt.title(\"Organogram of a company.\")\n",
    "\n",
    "plt.show()"
   ]
  },
  {
   "cell_type": "code",
   "execution_count": 44,
   "id": "05097452",
   "metadata": {},
   "outputs": [
    {
     "name": "stdout",
     "output_type": "stream",
     "text": [
      "[3]\n"
     ]
    }
   ],
   "source": [
    "predecessors = [pred for pred in G.predecessors(9)]\n",
    "print(predecessors)"
   ]
  },
  {
   "cell_type": "code",
   "execution_count": 45,
   "id": "130b53dd",
   "metadata": {},
   "outputs": [
    {
     "name": "stdout",
     "output_type": "stream",
     "text": [
      "[8, 9]\n"
     ]
    }
   ],
   "source": [
    "successors = [success for success in G.successors(3)]\n",
    "print(successors)\n",
    "\n",
    "all_successors = nx.nodes(nx.dfs_tree(G, 0))"
   ]
  },
  {
   "cell_type": "code",
   "execution_count": 46,
   "id": "a55cb571",
   "metadata": {},
   "outputs": [],
   "source": [
    "def allDescendants(node,G):\n",
    "    descendants=[]\n",
    "    descendants = [success for success in G.successors(node)]\n",
    "    \n",
    "    if descendants==[]:\n",
    "        print(\"no successors\")\n",
    "        return descendants\n",
    "    else:\n",
    "        #print(descendants)\n",
    "        not_checked= copy.deepcopy(descendants)\n",
    "        used=[]\n",
    "        while not_checked != []:\n",
    "            print(\"there are successors\")\n",
    "            for elem in not_checked:\n",
    "                print(elem)\n",
    "                if not (elem in used): \n",
    "                    used.append(elem) \n",
    "                    new_desc = [success for success in G.successors(elem)]\n",
    "                    descendants+=new_desc\n",
    "                    not_checked+=new_desc\n",
    "                    not_checked.remove(elem)\n",
    "                    print(\"this is the not_checked element after this iteration\", not_checked)\n",
    "                    print(\"this is the descendants element after this iteration\", descendants)\n",
    "                else:\n",
    "                    not_checked.remove(elem) \n",
    "        descendants = list(dict.fromkeys(descendants))\n",
    "        return descendants\n",
    "    \n",
    "def number_Descendants(descendants):\n",
    "    return len(descendants)\n"
   ]
  },
  {
   "cell_type": "code",
   "execution_count": 50,
   "id": "20a5c58d",
   "metadata": {},
   "outputs": [
    {
     "name": "stdout",
     "output_type": "stream",
     "text": [
      "there are successors\n",
      "5\n",
      "this is the not_checked element after this iteration [6, 7]\n",
      "this is the descendants element after this iteration [5, 6, 7]\n",
      "7\n",
      "this is the not_checked element after this iteration [6]\n",
      "this is the descendants element after this iteration [5, 6, 7]\n",
      "there are successors\n",
      "6\n",
      "this is the not_checked element after this iteration []\n",
      "this is the descendants element after this iteration [5, 6, 7]\n"
     ]
    },
    {
     "data": {
      "text/plain": [
       "[5, 6, 7]"
      ]
     },
     "execution_count": 50,
     "metadata": {},
     "output_type": "execute_result"
    }
   ],
   "source": [
    "allDescendants(2,G)"
   ]
  },
  {
   "cell_type": "code",
   "execution_count": null,
   "id": "a506d5a9",
   "metadata": {},
   "outputs": [],
   "source": []
  }
 ],
 "metadata": {
  "kernelspec": {
   "display_name": "Python 3 (ipykernel)",
   "language": "python",
   "name": "python3"
  },
  "language_info": {
   "codemirror_mode": {
    "name": "ipython",
    "version": 3
   },
   "file_extension": ".py",
   "mimetype": "text/x-python",
   "name": "python",
   "nbconvert_exporter": "python",
   "pygments_lexer": "ipython3",
   "version": "3.9.12"
  }
 },
 "nbformat": 4,
 "nbformat_minor": 5
}
